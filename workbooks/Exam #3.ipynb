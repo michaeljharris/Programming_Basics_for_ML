{
 "cells": [
  {
   "cell_type": "code",
   "execution_count": 4,
   "id": "f8a7dbaa",
   "metadata": {},
   "outputs": [
    {
     "ename": "KeyError",
     "evalue": "'Jim'",
     "output_type": "error",
     "traceback": [
      "\u001b[1;31m---------------------------------------------------------------------------\u001b[0m",
      "\u001b[1;31mKeyError\u001b[0m                                  Traceback (most recent call last)",
      "\u001b[1;32mc:\\Users\\desla\\Documents\\Data Analytics\\Programming_Basics_for_ML\\workbooks\\Exam #3.ipynb Cell 1\u001b[0m line \u001b[0;36m4\n\u001b[0;32m      <a href='vscode-notebook-cell:/c%3A/Users/desla/Documents/Data%20Analytics/Programming_Basics_for_ML/workbooks/Exam%20%233.ipynb#W0sZmlsZQ%3D%3D?line=1'>2</a>\u001b[0m names\u001b[39m.\u001b[39madd(\u001b[39m\"\u001b[39m\u001b[39mAmber\u001b[39m\u001b[39m\"\u001b[39m)\n\u001b[0;32m      <a href='vscode-notebook-cell:/c%3A/Users/desla/Documents/Data%20Analytics/Programming_Basics_for_ML/workbooks/Exam%20%233.ipynb#W0sZmlsZQ%3D%3D?line=2'>3</a>\u001b[0m names\u001b[39m.\u001b[39madd(\u001b[39m\"\u001b[39m\u001b[39mZoe\u001b[39m\u001b[39m\"\u001b[39m)\n\u001b[1;32m----> <a href='vscode-notebook-cell:/c%3A/Users/desla/Documents/Data%20Analytics/Programming_Basics_for_ML/workbooks/Exam%20%233.ipynb#W0sZmlsZQ%3D%3D?line=3'>4</a>\u001b[0m names\u001b[39m.\u001b[39;49mremove(\u001b[39m\"\u001b[39;49m\u001b[39mJim\u001b[39;49m\u001b[39m\"\u001b[39;49m)\n\u001b[0;32m      <a href='vscode-notebook-cell:/c%3A/Users/desla/Documents/Data%20Analytics/Programming_Basics_for_ML/workbooks/Exam%20%233.ipynb#W0sZmlsZQ%3D%3D?line=4'>5</a>\u001b[0m \u001b[39mprint\u001b[39m(names)\n",
      "\u001b[1;31mKeyError\u001b[0m: 'Jim'"
     ]
    }
   ],
   "source": [
    "names = set([\"Jane\", \"Joe\", \"Amy\", \"Lisa\"])\n",
    "names.add(\"Amber\")\n",
    "names.add(\"Zoe\")\n",
    "names.remove(\"Jim\")\n",
    "print(names)"
   ]
  },
  {
   "cell_type": "code",
   "execution_count": 8,
   "metadata": {},
   "outputs": [
    {
     "name": "stdout",
     "output_type": "stream",
     "text": [
      "{8, 1}\n"
     ]
    }
   ],
   "source": [
    "fibonacci = {1, 1, 2, 3, 5, 8}\n",
    "primes = {2, 3, 5, 7, 11}\n",
    "both = fibonacci.difference(primes)\n",
    "print(both)"
   ]
  },
  {
   "cell_type": "code",
   "execution_count": 12,
   "metadata": {},
   "outputs": [
    {
     "ename": "KeyError",
     "evalue": "'Z'",
     "output_type": "error",
     "traceback": [
      "\u001b[1;31m---------------------------------------------------------------------------\u001b[0m",
      "\u001b[1;31mKeyError\u001b[0m                                  Traceback (most recent call last)",
      "\u001b[1;32mc:\\Users\\desla\\Documents\\Data Analytics\\Programming_Basics_for_ML\\workbooks\\Exam #3.ipynb Cell 3\u001b[0m line \u001b[0;36m2\n\u001b[0;32m      <a href='vscode-notebook-cell:/c%3A/Users/desla/Documents/Data%20Analytics/Programming_Basics_for_ML/workbooks/Exam%20%233.ipynb#W2sZmlsZQ%3D%3D?line=0'>1</a>\u001b[0m data \u001b[39m=\u001b[39m {\u001b[39m\"\u001b[39m\u001b[39mA\u001b[39m\u001b[39m\"\u001b[39m: \u001b[39m65\u001b[39m, \u001b[39m\"\u001b[39m\u001b[39mB\u001b[39m\u001b[39m\"\u001b[39m: \u001b[39m66\u001b[39m, \u001b[39m\"\u001b[39m\u001b[39mC\u001b[39m\u001b[39m\"\u001b[39m: \u001b[39m67\u001b[39m}\n\u001b[1;32m----> <a href='vscode-notebook-cell:/c%3A/Users/desla/Documents/Data%20Analytics/Programming_Basics_for_ML/workbooks/Exam%20%233.ipynb#W2sZmlsZQ%3D%3D?line=1'>2</a>\u001b[0m \u001b[39mprint\u001b[39m(data[\u001b[39m\"\u001b[39;49m\u001b[39mZ\u001b[39;49m\u001b[39m\"\u001b[39;49m])\n",
      "\u001b[1;31mKeyError\u001b[0m: 'Z'"
     ]
    }
   ],
   "source": [
    "data = {\"A\": 65, \"B\": 66, \"C\": 67}\n",
    "print(data[\"Z\"])"
   ]
  }
 ],
 "metadata": {
  "kernelspec": {
   "display_name": "Python 3 (ipykernel)",
   "language": "python",
   "name": "python3"
  },
  "language_info": {
   "codemirror_mode": {
    "name": "ipython",
    "version": 3
   },
   "file_extension": ".py",
   "mimetype": "text/x-python",
   "name": "python",
   "nbconvert_exporter": "python",
   "pygments_lexer": "ipython3",
   "version": "3.9.12"
  }
 },
 "nbformat": 4,
 "nbformat_minor": 5
}
